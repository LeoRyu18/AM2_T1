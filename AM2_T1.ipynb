{
  "nbformat": 4,
  "nbformat_minor": 0,
  "metadata": {
    "kernelspec": {
      "display_name": "Python 3",
      "language": "python",
      "name": "python3"
    },
    "language_info": {
      "codemirror_mode": {
        "name": "ipython",
        "version": 3
      },
      "file_extension": ".py",
      "mimetype": "text/x-python",
      "name": "python",
      "nbconvert_exporter": "python",
      "pygments_lexer": "ipython3",
      "version": "3.9.2-final"
    },
    "colab": {
      "name": "AM2_T1.ipynb",
      "provenance": [],
      "include_colab_link": true
    }
  },
  "cells": [
    {
      "cell_type": "markdown",
      "metadata": {
        "id": "view-in-github",
        "colab_type": "text"
      },
      "source": [
        "<a href=\"https://colab.research.google.com/github/LeoRyu18/AM2_T1/blob/main/AM2_T1.ipynb\" target=\"_parent\"><img src=\"https://colab.research.google.com/assets/colab-badge.svg\" alt=\"Open In Colab\"/></a>"
      ]
    },
    {
      "cell_type": "markdown",
      "metadata": {
        "id": "mTLc5BpZrN83"
      },
      "source": [
        "# 1º Trabalho de Aprendizado de Máquina II - UFSCar 2020/2"
      ]
    },
    {
      "cell_type": "markdown",
      "metadata": {
        "id": "y39FXlO3rN8_"
      },
      "source": [
        "---\n",
        "\n",
        "**Trabalho referente a aplicação de métodos de Classificação multirrótulo em múltiplos datasets.**\n",
        "\n",
        "**Professor**\n",
        "> Diego Furtado Silva\n",
        "\n",
        "**Participantes:**\n",
        "\n",
        ">Leonardo Ryu Takaki -> lrtakaki@estudante.ufscar.br\n",
        "\n",
        ">Augusto Rozendo Mends -> augustorm@estudante.ufscar.br\n",
        ">\n",
        ">"
      ]
    },
    {
      "cell_type": "markdown",
      "metadata": {
        "id": "Wpa4HFoHrN9A"
      },
      "source": [
        "---\n",
        "\n",
        "- Algoritmos\n",
        " - MLkNN\n",
        " - Relevância binária (BR)\n",
        " - LP (Label Powerset)\n",
        "\n",
        "\n",
        "\n",
        "\n",
        "- Base de dados\n",
        " - [Emotions](http://mlkd.csd.auth.gr/publication_details.asp?publicationID=269)\n",
        " -\n",
        " -\n",
        " -\n",
        " -\n",
        "\n",
        "---"
      ]
    },
    {
      "cell_type": "code",
      "metadata": {
        "id": "bNlv1E5GtQPk",
        "colab": {
          "base_uri": "https://localhost:8080/"
        },
        "outputId": "ff1d55e3-1382-41a6-bcdd-35cb5cc2c785"
      },
      "source": [
        "!pip install scikit-multilearn"
      ],
      "execution_count": null,
      "outputs": [
        {
          "output_type": "stream",
          "text": [
            "Collecting scikit-multilearn\n",
            "\u001b[?25l  Downloading https://files.pythonhosted.org/packages/bb/1f/e6ff649c72a1cdf2c7a1d31eb21705110ce1c5d3e7e26b2cc300e1637272/scikit_multilearn-0.2.0-py3-none-any.whl (89kB)\n",
            "\r\u001b[K     |███▊                            | 10kB 12.7MB/s eta 0:00:01\r\u001b[K     |███████▍                        | 20kB 10.1MB/s eta 0:00:01\r\u001b[K     |███████████                     | 30kB 8.5MB/s eta 0:00:01\r\u001b[K     |██████████████▊                 | 40kB 6.5MB/s eta 0:00:01\r\u001b[K     |██████████████████▍             | 51kB 4.4MB/s eta 0:00:01\r\u001b[K     |██████████████████████          | 61kB 4.9MB/s eta 0:00:01\r\u001b[K     |█████████████████████████▊      | 71kB 4.9MB/s eta 0:00:01\r\u001b[K     |█████████████████████████████▍  | 81kB 5.2MB/s eta 0:00:01\r\u001b[K     |████████████████████████████████| 92kB 3.4MB/s \n",
            "\u001b[?25hInstalling collected packages: scikit-multilearn\n",
            "Successfully installed scikit-multilearn-0.2.0\n"
          ],
          "name": "stdout"
        }
      ]
    },
    {
      "cell_type": "code",
      "metadata": {
        "id": "9EWIkp5orN9B"
      },
      "source": [
        "# importações\n",
        "\n",
        "import pandas as pd\n",
        "import numpy as np\n",
        "from matplotlib import pyplot as pyplot\n",
        "\n",
        "\n",
        "import sklearn.metrics as metrics\n",
        "from skmultilearn.adapt import MLkNN\n",
        "from skmultilearn.problem_transform import BinaryRelevance\n",
        "from sklearn.svm import SVC\n",
        "from sklearn.naive_bayes import MultinomialNB\n",
        "from skmultilearn.problem_transform import ClassifierChain\n",
        "from skmultilearn.problem_transform import LabelPowerset\n",
        "from sklearn.ensemble import RandomForestClassifier\n",
        "from sklearn.model_selection import GridSearchCV\n",
        "from sklearn import preprocessing\n",
        "from sklearn.utils import shuffle\n",
        "from sklearn.model_selection import train_test_split, GridSearchCV\n",
        "\n",
        "\n",
        "from warnings import simplefilter\n",
        "simplefilter(action='ignore', category=FutureWarning)"
      ],
      "execution_count": null,
      "outputs": []
    },
    {
      "cell_type": "markdown",
      "metadata": {
        "id": "_aLJzzEPrN9C"
      },
      "source": [
        "---\n",
        "## MLkNN"
      ]
    },
    {
      "cell_type": "markdown",
      "metadata": {
        "id": "8aqS7cEprN9D"
      },
      "source": [
        "Explicação rápida do algoritmo aqui."
      ]
    },
    {
      "cell_type": "code",
      "metadata": {
        "id": "SYqlLhatrN9E"
      },
      "source": [
        "def MLkNN_simples(X_train, y_train, X_test, y_test):\n",
        "    classifier = MLkNN(k=3)\n",
        "    classifier.fit(X_train, y_train)\n",
        "    predictions = classifier.predict(X_test)\n",
        "    print(\"Hamming Loss =\", metrics.hamming_loss(y_test, predictions))\n",
        "    print(\"Acurácia =\", metrics.accuracy_score(y_test, predictions))\n",
        "    print(\"Precisão =\", metrics.precision_score(y_test, predictions, average='micro'))\n",
        "    print(\"Revocação =\", metrics.recall_score(y_test, predictions, average='micro'))\n",
        "\n",
        "def MLkNN_GS(X_train, y_train, X_test, y_test):\n",
        "    parameters = {'k': range(1,3), 's': [0.3, 0.5, 0.7, 1.0]}\n",
        "    score = 'f1_macro'\n",
        "\n",
        "    model = GridSearchCV(MLkNN(), parameters, scoring=score)\n",
        "    model.fit(X_train, y_train)\n",
        "    print(\"Melhores parâmetros =\", model.best_params_,\"\\nMelhor score =\", model.best_score_)\n",
        "\n",
        "    predictions = model.predict(X_test)\n",
        "    print(\"Hamming Loss =\", metrics.hamming_loss(y_test, predictions))\n",
        "    print(\"Acurácia =\", metrics.accuracy_score(y_test, predictions))\n",
        "    print(\"Precisão =\", metrics.precision_score(y_test, predictions, average='micro'))\n",
        "    print(\"Revocação =\", metrics.recall_score(y_test, predictions, average='micro'))"
      ],
      "execution_count": null,
      "outputs": []
    },
    {
      "cell_type": "markdown",
      "metadata": {
        "id": "k9XAZXx4rN9F"
      },
      "source": [
        "---\n",
        "## Relevância binária (BR)"
      ]
    },
    {
      "cell_type": "markdown",
      "metadata": {
        "id": "0olbpyfFrN9G"
      },
      "source": [
        "Explicação rápida do algoritmo aqui."
      ]
    },
    {
      "cell_type": "code",
      "metadata": {
        "id": "lWM0t2TbrN9H"
      },
      "source": [
        "def BR_simples(X_train, y_train, X_test, y_test):\n",
        "    classifier = BinaryRelevance( classifier = SVC(), require_dense = [False, True])\n",
        "    classifier.fit(X_train, y_train)\n",
        "    predictions = classifier.predict(X_test)\n",
        "    print(\"Hamming Loss =\", metrics.hamming_loss(y_test, predictions))\n",
        "    print(\"Acurácia =\", metrics.accuracy_score(y_test, predictions))\n",
        "    print(\"Precisão =\", metrics.precision_score(y_test, predictions, average='micro'))\n",
        "    print(\"Revocação =\", metrics.recall_score(y_test, predictions, average='micro'))\n",
        "\n",
        "def BR_GS(X_train, y_train, X_test, y_test):\n",
        "    parameters = [{'classifier': [MultinomialNB()],\n",
        "                   'classifier__alpha': [0.7, 1.0],\n",
        "                  },\n",
        "                  {'classifier': [SVC()],\n",
        "                   'classifier__kernel': ['rbf', 'linear'],\n",
        "                  },\n",
        "                 ]\n",
        "    model = GridSearchCV(BinaryRelevance(), parameters, scoring='accuracy')\n",
        "    model.fit(X_train, y_train)\n",
        "    print(\"Melhores parâmetros =\", model.best_params_,\"\\nMelhor score =\", model.best_score_)\n",
        "\n",
        "    predictions = model.predict(X_test)\n",
        "    print(\"Hamming Loss =\", metrics.hamming_loss(y_test, predictions))\n",
        "    print(\"Acurácia =\", metrics.accuracy_score(y_test, predictions))\n",
        "    print(\"Precisão =\", metrics.precision_score(y_test, predictions, average='micro'))\n",
        "    print(\"Revocação =\", metrics.recall_score(y_test, predictions, average='micro'))"
      ],
      "execution_count": null,
      "outputs": []
    },
    {
      "cell_type": "markdown",
      "metadata": {
        "id": "fwP5bk7GrN9H"
      },
      "source": [
        "---\n",
        "## LP (Label Powerset)"
      ]
    },
    {
      "cell_type": "markdown",
      "metadata": {
        "id": "3E4839_ArN9I"
      },
      "source": [
        "Explicação rápida do algoritmo aqui."
      ]
    },
    {
      "cell_type": "code",
      "metadata": {
        "id": "z3VSkVCgrN9J"
      },
      "source": [
        "def LP_simples(X_train, y_train, X_test, y_test):\n",
        "    classifier = ClassifierChain(classifier = RandomForestClassifier(n_estimators=100), require_dense = [False, True])\n",
        "    classifier.fit(X_train, y_train)\n",
        "    predictions = classifier.predict(X_test)\n",
        "    print(\"Hamming Loss =\", metrics.hamming_loss(y_test, predictions))\n",
        "    print(\"Acurácia =\", metrics.accuracy_score(y_test, predictions))\n",
        "    print(\"Precisão =\", metrics.precision_score(y_test, predictions, average='micro'))\n",
        "    print(\"Revocação =\", metrics.recall_score(y_test, predictions, average='micro'))\n",
        "\n",
        "\n",
        "def LP_GS(X_train, y_train, X_test, y_test):\n",
        "    parameters = [{'classifier': [MultinomialNB()],\n",
        "                   'classifier__alpha': [0.7, 1.0],\n",
        "                  },\n",
        "                  {'classifier': [RandomForestClassifier()],\n",
        "                   'classifier__criterion': ['gini', 'entropy'],\n",
        "                   'classifier__n_estimators': [10, 20, 50],\n",
        "                  },\n",
        "                 ]\n",
        "    model = GridSearchCV(LabelPowerset(), parameters, scoring='accuracy')\n",
        "    model.fit(X_train, y_train)\n",
        "    print(\"Melhores parâmetros =\", model.best_params_,\"\\nMelhor score =\", model.best_score_)\n",
        "\n",
        "    predictions = model.predict(X_test)\n",
        "    print(\"Hamming Loss =\", metrics.hamming_loss(y_test, predictions))\n",
        "    print(\"Acurácia =\", metrics.accuracy_score(y_test, predictions))\n",
        "    print(\"Precisão =\", metrics.precision_score(y_test, predictions, average='micro'))\n",
        "    print(\"Revocação =\", metrics.recall_score(y_test, predictions, average='micro'))\n"
      ],
      "execution_count": null,
      "outputs": []
    },
    {
      "cell_type": "markdown",
      "metadata": {
        "id": "Ty09VyRLrN9K"
      },
      "source": [
        "---\n",
        "\n",
        "# Datasets + aplicação dos algoritmos"
      ]
    },
    {
      "cell_type": "markdown",
      "metadata": {
        "id": "ho4-S0CIrN9K"
      },
      "source": [
        "## Emotions"
      ]
    },
    {
      "cell_type": "markdown",
      "metadata": {
        "id": "QNDcirXLwkxI"
      },
      "source": [
        "Os humanos, por natureza, são afetados emocionalmente pela música. À medida que os bancos de dados de música aumentam de tamanho, a recuperação da música pela emoção se torna uma\n",
        "tarefa importante para várias aplicações, como seleção de música em dispositivos móveis, sistemas de recomendação de música, programas de TV, rádio e musicoterapia.\n",
        "A música pode evocar mais de uma emoção diferente ao mesmo tempo. Desta forma, queremos recuperar uma peça musical baseada em qualquer uma das emoções. A classificação e regressão de rótulo único não podem modelar essa multiplicidade, portanto, utilizamos alguns algoritmos de classificação multirrótulo.\n",
        "\n",
        "Os features extraídos se enquadram em duas categorias: rítmica e timbre.\n",
        "\n",
        "* Features Rítmicos:\n",
        "As características rítmicas foram derivadas da extração das alterações periódicas de um histograma de batida. Um algoritmo que identifica picos foi utilizado e os dois picos mais altos foram selecionados para calcular as amplitudes,\n",
        "seus BPMs (batidas por minuto) e a proporção de alta BPM e baixa BPM. Além disso, 3 recursos foram calculados somando os bins do histograma entre 40-90, 90-140 e 140-\n",
        "250 BPMs respectivamente. Desta forma, temos \n",
        "8 features rítmicos.\n",
        "\n",
        "* Features de timbre:\n",
        "Coeficientes mel-cepstrais (MFCCs) são usados ​​para\n",
        "reconhecimento de fala e modelagem musical. Para derivar features MFCCs, o sinal foi dividido em frames e o espectro de amplitude foi calculado para cada frame. Em seguida, seu logaritmo foi obtido e convertido para a escala de Mel. Finalmente, a\n",
        "transformada discreta de cosseno foi aplicada. No Dataset selecionado, foram utilizados os primeiros 13 MFCCs.\n",
        "Outro conjunto de 3 features relacionados a texturas de timbre foram extraídos da Transformada de Fourier de Curto Termo (FFT): Centróide espectral, rolloff espectral e fluxo espectral.\n",
        "Para cada um dos 16 recursos mencionados acima (13 MFCCs e 3 FFT) foram calculadas a média, o desvio padrão (std),\n",
        "desvio padrão médio (mean std) e desvio padrão\n",
        "de desvio padrão (std std) em todos os frames. Isso levou a um total de 64 recursos de timbre.\n",
        "\n",
        "Temos 6 classes: amazed-surprised, happy-pleased, relaxing-calm, quiet-still, sad-lonely, angry-fearful. Os exemplos foram classificados por três especialistas do sexo masculino de 20, 25 e 30 anos. Apenas as músicas com rotulagem completamente idêntica entre os especialistas foram mantidas para experimentação subsequente. Esse processo levou a um conjunto de dados com 593 músicas classificados."
      ]
    },
    {
      "cell_type": "code",
      "metadata": {
        "id": "xRVGSVDIrN9K",
        "colab": {
          "base_uri": "https://localhost:8080/",
          "height": 244
        },
        "outputId": "bdf96f9e-44ca-4557-e1da-08fa547353ad"
      },
      "source": [
        "df = pd.read_csv(\"https://raw.githubusercontent.com/LeoRyu18/AM2_T1/main/emotions.csv?token=AHW73BL6QJI2YHTKQFMQHTDAKVXNU\")\n",
        "df.head()"
      ],
      "execution_count": null,
      "outputs": [
        {
          "output_type": "execute_result",
          "data": {
            "text/html": [
              "<div>\n",
              "<style scoped>\n",
              "    .dataframe tbody tr th:only-of-type {\n",
              "        vertical-align: middle;\n",
              "    }\n",
              "\n",
              "    .dataframe tbody tr th {\n",
              "        vertical-align: top;\n",
              "    }\n",
              "\n",
              "    .dataframe thead th {\n",
              "        text-align: right;\n",
              "    }\n",
              "</style>\n",
              "<table border=\"1\" class=\"dataframe\">\n",
              "  <thead>\n",
              "    <tr style=\"text-align: right;\">\n",
              "      <th></th>\n",
              "      <th>id</th>\n",
              "      <th>Mean_Acc1298_Mean_Mem40_Centroid</th>\n",
              "      <th>Mean_Acc1298_Mean_Mem40_Rolloff</th>\n",
              "      <th>Mean_Acc1298_Mean_Mem40_Flux</th>\n",
              "      <th>Mean_Acc1298_Mean_Mem40_MFCC_0</th>\n",
              "      <th>Mean_Acc1298_Mean_Mem40_MFCC_1</th>\n",
              "      <th>Mean_Acc1298_Mean_Mem40_MFCC_2</th>\n",
              "      <th>Mean_Acc1298_Mean_Mem40_MFCC_3</th>\n",
              "      <th>Mean_Acc1298_Mean_Mem40_MFCC_4</th>\n",
              "      <th>Mean_Acc1298_Mean_Mem40_MFCC_5</th>\n",
              "      <th>Mean_Acc1298_Mean_Mem40_MFCC_6</th>\n",
              "      <th>Mean_Acc1298_Mean_Mem40_MFCC_7</th>\n",
              "      <th>Mean_Acc1298_Mean_Mem40_MFCC_8</th>\n",
              "      <th>Mean_Acc1298_Mean_Mem40_MFCC_9</th>\n",
              "      <th>Mean_Acc1298_Mean_Mem40_MFCC_10</th>\n",
              "      <th>Mean_Acc1298_Mean_Mem40_MFCC_11</th>\n",
              "      <th>Mean_Acc1298_Mean_Mem40_MFCC_12</th>\n",
              "      <th>Mean_Acc1298_Std_Mem40_Centroid</th>\n",
              "      <th>Mean_Acc1298_Std_Mem40_Rolloff</th>\n",
              "      <th>Mean_Acc1298_Std_Mem40_Flux</th>\n",
              "      <th>Mean_Acc1298_Std_Mem40_MFCC_0</th>\n",
              "      <th>Mean_Acc1298_Std_Mem40_MFCC_1</th>\n",
              "      <th>Mean_Acc1298_Std_Mem40_MFCC_2</th>\n",
              "      <th>Mean_Acc1298_Std_Mem40_MFCC_3</th>\n",
              "      <th>Mean_Acc1298_Std_Mem40_MFCC_4</th>\n",
              "      <th>Mean_Acc1298_Std_Mem40_MFCC_5</th>\n",
              "      <th>Mean_Acc1298_Std_Mem40_MFCC_6</th>\n",
              "      <th>Mean_Acc1298_Std_Mem40_MFCC_7</th>\n",
              "      <th>Mean_Acc1298_Std_Mem40_MFCC_8</th>\n",
              "      <th>Mean_Acc1298_Std_Mem40_MFCC_9</th>\n",
              "      <th>Mean_Acc1298_Std_Mem40_MFCC_10</th>\n",
              "      <th>Mean_Acc1298_Std_Mem40_MFCC_11</th>\n",
              "      <th>Mean_Acc1298_Std_Mem40_MFCC_12</th>\n",
              "      <th>Std_Acc1298_Mean_Mem40_Centroid</th>\n",
              "      <th>Std_Acc1298_Mean_Mem40_Rolloff</th>\n",
              "      <th>Std_Acc1298_Mean_Mem40_Flux</th>\n",
              "      <th>Std_Acc1298_Mean_Mem40_MFCC_0</th>\n",
              "      <th>Std_Acc1298_Mean_Mem40_MFCC_1</th>\n",
              "      <th>Std_Acc1298_Mean_Mem40_MFCC_2</th>\n",
              "      <th>Std_Acc1298_Mean_Mem40_MFCC_3</th>\n",
              "      <th>Std_Acc1298_Mean_Mem40_MFCC_4</th>\n",
              "      <th>Std_Acc1298_Mean_Mem40_MFCC_5</th>\n",
              "      <th>Std_Acc1298_Mean_Mem40_MFCC_6</th>\n",
              "      <th>Std_Acc1298_Mean_Mem40_MFCC_7</th>\n",
              "      <th>Std_Acc1298_Mean_Mem40_MFCC_8</th>\n",
              "      <th>Std_Acc1298_Mean_Mem40_MFCC_9</th>\n",
              "      <th>Std_Acc1298_Mean_Mem40_MFCC_10</th>\n",
              "      <th>Std_Acc1298_Mean_Mem40_MFCC_11</th>\n",
              "      <th>Std_Acc1298_Mean_Mem40_MFCC_12</th>\n",
              "      <th>Std_Acc1298_Std_Mem40_Centroid</th>\n",
              "      <th>Std_Acc1298_Std_Mem40_Rolloff</th>\n",
              "      <th>Std_Acc1298_Std_Mem40_Flux</th>\n",
              "      <th>Std_Acc1298_Std_Mem40_MFCC_0</th>\n",
              "      <th>Std_Acc1298_Std_Mem40_MFCC_1</th>\n",
              "      <th>Std_Acc1298_Std_Mem40_MFCC_2</th>\n",
              "      <th>Std_Acc1298_Std_Mem40_MFCC_3</th>\n",
              "      <th>Std_Acc1298_Std_Mem40_MFCC_4</th>\n",
              "      <th>Std_Acc1298_Std_Mem40_MFCC_5</th>\n",
              "      <th>Std_Acc1298_Std_Mem40_MFCC_6</th>\n",
              "      <th>Std_Acc1298_Std_Mem40_MFCC_7</th>\n",
              "      <th>Std_Acc1298_Std_Mem40_MFCC_8</th>\n",
              "      <th>Std_Acc1298_Std_Mem40_MFCC_9</th>\n",
              "      <th>Std_Acc1298_Std_Mem40_MFCC_10</th>\n",
              "      <th>Std_Acc1298_Std_Mem40_MFCC_11</th>\n",
              "      <th>Std_Acc1298_Std_Mem40_MFCC_12</th>\n",
              "      <th>BH_LowPeakAmp</th>\n",
              "      <th>BH_LowPeakBPM</th>\n",
              "      <th>BH_HighPeakAmp</th>\n",
              "      <th>BH_HighPeakBPM</th>\n",
              "      <th>BH_HighLowRatio</th>\n",
              "      <th>BHSUM1</th>\n",
              "      <th>BHSUM2</th>\n",
              "      <th>BHSUM3</th>\n",
              "      <th>amazed-suprised</th>\n",
              "      <th>happy-pleased</th>\n",
              "      <th>relaxing-calm</th>\n",
              "      <th>quiet-still</th>\n",
              "      <th>sad-lonely</th>\n",
              "      <th>angry-aggresive</th>\n",
              "    </tr>\n",
              "  </thead>\n",
              "  <tbody>\n",
              "    <tr>\n",
              "      <th>0</th>\n",
              "      <td>1</td>\n",
              "      <td>0.034741</td>\n",
              "      <td>0.089665</td>\n",
              "      <td>0.091225</td>\n",
              "      <td>-73.302422</td>\n",
              "      <td>6.215179</td>\n",
              "      <td>0.615074</td>\n",
              "      <td>2.037160</td>\n",
              "      <td>0.804065</td>\n",
              "      <td>1.301409</td>\n",
              "      <td>0.558576</td>\n",
              "      <td>0.672063</td>\n",
              "      <td>0.783788</td>\n",
              "      <td>0.766640</td>\n",
              "      <td>0.458712</td>\n",
              "      <td>0.530384</td>\n",
              "      <td>0.812429</td>\n",
              "      <td>0.028851</td>\n",
              "      <td>0.129039</td>\n",
              "      <td>0.039614</td>\n",
              "      <td>5.762173</td>\n",
              "      <td>1.636819</td>\n",
              "      <td>1.170034</td>\n",
              "      <td>1.051511</td>\n",
              "      <td>0.764163</td>\n",
              "      <td>0.642705</td>\n",
              "      <td>0.617868</td>\n",
              "      <td>0.510265</td>\n",
              "      <td>0.566213</td>\n",
              "      <td>0.509149</td>\n",
              "      <td>0.477275</td>\n",
              "      <td>0.505073</td>\n",
              "      <td>0.463535</td>\n",
              "      <td>0.013519</td>\n",
              "      <td>0.050591</td>\n",
              "      <td>0.009025</td>\n",
              "      <td>8.156257</td>\n",
              "      <td>1.077167</td>\n",
              "      <td>0.624711</td>\n",
              "      <td>0.810244</td>\n",
              "      <td>0.399568</td>\n",
              "      <td>0.279947</td>\n",
              "      <td>0.314215</td>\n",
              "      <td>0.231439</td>\n",
              "      <td>0.345401</td>\n",
              "      <td>0.285389</td>\n",
              "      <td>0.210613</td>\n",
              "      <td>0.321896</td>\n",
              "      <td>0.290551</td>\n",
              "      <td>0.022774</td>\n",
              "      <td>0.095801</td>\n",
              "      <td>0.015057</td>\n",
              "      <td>4.748694</td>\n",
              "      <td>0.536378</td>\n",
              "      <td>0.296306</td>\n",
              "      <td>0.273210</td>\n",
              "      <td>0.175800</td>\n",
              "      <td>0.105508</td>\n",
              "      <td>0.168246</td>\n",
              "      <td>0.115849</td>\n",
              "      <td>0.136020</td>\n",
              "      <td>0.110514</td>\n",
              "      <td>0.100517</td>\n",
              "      <td>0.118630</td>\n",
              "      <td>0.094923</td>\n",
              "      <td>0.051035</td>\n",
              "      <td>68</td>\n",
              "      <td>0.014937</td>\n",
              "      <td>136</td>\n",
              "      <td>2</td>\n",
              "      <td>0.245457</td>\n",
              "      <td>0.105065</td>\n",
              "      <td>0.405399</td>\n",
              "      <td>0</td>\n",
              "      <td>1</td>\n",
              "      <td>1</td>\n",
              "      <td>0</td>\n",
              "      <td>0</td>\n",
              "      <td>0</td>\n",
              "    </tr>\n",
              "    <tr>\n",
              "      <th>1</th>\n",
              "      <td>2</td>\n",
              "      <td>0.081374</td>\n",
              "      <td>0.272747</td>\n",
              "      <td>0.085733</td>\n",
              "      <td>-62.584437</td>\n",
              "      <td>3.183163</td>\n",
              "      <td>-0.218145</td>\n",
              "      <td>0.163038</td>\n",
              "      <td>0.620251</td>\n",
              "      <td>0.458514</td>\n",
              "      <td>0.041426</td>\n",
              "      <td>0.308287</td>\n",
              "      <td>0.538152</td>\n",
              "      <td>0.594871</td>\n",
              "      <td>0.734332</td>\n",
              "      <td>0.415489</td>\n",
              "      <td>0.761508</td>\n",
              "      <td>0.066288</td>\n",
              "      <td>0.262370</td>\n",
              "      <td>0.034438</td>\n",
              "      <td>3.480874</td>\n",
              "      <td>1.596532</td>\n",
              "      <td>0.943803</td>\n",
              "      <td>0.804444</td>\n",
              "      <td>0.511229</td>\n",
              "      <td>0.498670</td>\n",
              "      <td>0.523039</td>\n",
              "      <td>0.480916</td>\n",
              "      <td>0.488657</td>\n",
              "      <td>0.483166</td>\n",
              "      <td>0.445187</td>\n",
              "      <td>0.415994</td>\n",
              "      <td>0.405593</td>\n",
              "      <td>0.013621</td>\n",
              "      <td>0.073041</td>\n",
              "      <td>0.010094</td>\n",
              "      <td>1.243981</td>\n",
              "      <td>0.829790</td>\n",
              "      <td>0.252972</td>\n",
              "      <td>0.347831</td>\n",
              "      <td>0.205087</td>\n",
              "      <td>0.168601</td>\n",
              "      <td>0.178009</td>\n",
              "      <td>0.144080</td>\n",
              "      <td>0.178703</td>\n",
              "      <td>0.146937</td>\n",
              "      <td>0.125580</td>\n",
              "      <td>0.128202</td>\n",
              "      <td>0.107007</td>\n",
              "      <td>0.020028</td>\n",
              "      <td>0.066940</td>\n",
              "      <td>0.029483</td>\n",
              "      <td>3.963534</td>\n",
              "      <td>0.382360</td>\n",
              "      <td>0.168389</td>\n",
              "      <td>0.117525</td>\n",
              "      <td>0.098341</td>\n",
              "      <td>0.087046</td>\n",
              "      <td>0.057991</td>\n",
              "      <td>0.059393</td>\n",
              "      <td>0.059457</td>\n",
              "      <td>0.053439</td>\n",
              "      <td>0.067684</td>\n",
              "      <td>0.070075</td>\n",
              "      <td>0.041565</td>\n",
              "      <td>0.295031</td>\n",
              "      <td>70</td>\n",
              "      <td>0.276366</td>\n",
              "      <td>140</td>\n",
              "      <td>2</td>\n",
              "      <td>0.343547</td>\n",
              "      <td>0.276366</td>\n",
              "      <td>0.710924</td>\n",
              "      <td>1</td>\n",
              "      <td>0</td>\n",
              "      <td>0</td>\n",
              "      <td>0</td>\n",
              "      <td>0</td>\n",
              "      <td>1</td>\n",
              "    </tr>\n",
              "    <tr>\n",
              "      <th>2</th>\n",
              "      <td>3</td>\n",
              "      <td>0.110545</td>\n",
              "      <td>0.273567</td>\n",
              "      <td>0.084410</td>\n",
              "      <td>-65.235325</td>\n",
              "      <td>2.794964</td>\n",
              "      <td>0.639047</td>\n",
              "      <td>1.281297</td>\n",
              "      <td>0.757896</td>\n",
              "      <td>0.489412</td>\n",
              "      <td>0.627636</td>\n",
              "      <td>0.469322</td>\n",
              "      <td>0.644336</td>\n",
              "      <td>0.441556</td>\n",
              "      <td>0.335964</td>\n",
              "      <td>0.290713</td>\n",
              "      <td>0.158538</td>\n",
              "      <td>0.082743</td>\n",
              "      <td>0.215373</td>\n",
              "      <td>0.035970</td>\n",
              "      <td>4.834742</td>\n",
              "      <td>1.213443</td>\n",
              "      <td>0.864034</td>\n",
              "      <td>0.909222</td>\n",
              "      <td>0.780572</td>\n",
              "      <td>0.550833</td>\n",
              "      <td>0.639740</td>\n",
              "      <td>0.573309</td>\n",
              "      <td>0.526312</td>\n",
              "      <td>0.562622</td>\n",
              "      <td>0.538407</td>\n",
              "      <td>0.492292</td>\n",
              "      <td>0.455562</td>\n",
              "      <td>0.029112</td>\n",
              "      <td>0.070433</td>\n",
              "      <td>0.008525</td>\n",
              "      <td>2.759906</td>\n",
              "      <td>0.592634</td>\n",
              "      <td>0.761852</td>\n",
              "      <td>0.568740</td>\n",
              "      <td>0.589827</td>\n",
              "      <td>0.281181</td>\n",
              "      <td>0.437752</td>\n",
              "      <td>0.479889</td>\n",
              "      <td>0.227320</td>\n",
              "      <td>0.296224</td>\n",
              "      <td>0.273855</td>\n",
              "      <td>0.191804</td>\n",
              "      <td>0.198025</td>\n",
              "      <td>0.038119</td>\n",
              "      <td>0.065427</td>\n",
              "      <td>0.029622</td>\n",
              "      <td>3.371796</td>\n",
              "      <td>0.430373</td>\n",
              "      <td>0.172862</td>\n",
              "      <td>0.177523</td>\n",
              "      <td>0.184333</td>\n",
              "      <td>0.095718</td>\n",
              "      <td>0.139323</td>\n",
              "      <td>0.109279</td>\n",
              "      <td>0.090650</td>\n",
              "      <td>0.117886</td>\n",
              "      <td>0.100852</td>\n",
              "      <td>0.079917</td>\n",
              "      <td>0.085821</td>\n",
              "      <td>0.161574</td>\n",
              "      <td>61</td>\n",
              "      <td>0.000000</td>\n",
              "      <td>183</td>\n",
              "      <td>3</td>\n",
              "      <td>0.188693</td>\n",
              "      <td>0.045941</td>\n",
              "      <td>0.457372</td>\n",
              "      <td>0</td>\n",
              "      <td>1</td>\n",
              "      <td>0</td>\n",
              "      <td>0</td>\n",
              "      <td>0</td>\n",
              "      <td>1</td>\n",
              "    </tr>\n",
              "    <tr>\n",
              "      <th>3</th>\n",
              "      <td>4</td>\n",
              "      <td>0.042481</td>\n",
              "      <td>0.199281</td>\n",
              "      <td>0.093447</td>\n",
              "      <td>-80.305152</td>\n",
              "      <td>5.824409</td>\n",
              "      <td>0.648848</td>\n",
              "      <td>1.754870</td>\n",
              "      <td>1.495532</td>\n",
              "      <td>0.739909</td>\n",
              "      <td>0.809644</td>\n",
              "      <td>0.460945</td>\n",
              "      <td>0.409566</td>\n",
              "      <td>0.680122</td>\n",
              "      <td>0.590405</td>\n",
              "      <td>0.481380</td>\n",
              "      <td>0.621956</td>\n",
              "      <td>0.049939</td>\n",
              "      <td>0.281616</td>\n",
              "      <td>0.044727</td>\n",
              "      <td>6.719538</td>\n",
              "      <td>1.377811</td>\n",
              "      <td>1.265771</td>\n",
              "      <td>0.986178</td>\n",
              "      <td>0.710955</td>\n",
              "      <td>0.706904</td>\n",
              "      <td>0.710147</td>\n",
              "      <td>0.688825</td>\n",
              "      <td>0.699573</td>\n",
              "      <td>0.577976</td>\n",
              "      <td>0.533882</td>\n",
              "      <td>0.501818</td>\n",
              "      <td>0.495368</td>\n",
              "      <td>0.020749</td>\n",
              "      <td>0.106318</td>\n",
              "      <td>0.009108</td>\n",
              "      <td>3.992357</td>\n",
              "      <td>0.656429</td>\n",
              "      <td>0.927692</td>\n",
              "      <td>0.569916</td>\n",
              "      <td>0.378919</td>\n",
              "      <td>0.530714</td>\n",
              "      <td>0.317807</td>\n",
              "      <td>0.308447</td>\n",
              "      <td>0.324934</td>\n",
              "      <td>0.263444</td>\n",
              "      <td>0.359477</td>\n",
              "      <td>0.274257</td>\n",
              "      <td>0.233287</td>\n",
              "      <td>0.032678</td>\n",
              "      <td>0.119480</td>\n",
              "      <td>0.028707</td>\n",
              "      <td>4.125111</td>\n",
              "      <td>0.461304</td>\n",
              "      <td>0.280751</td>\n",
              "      <td>0.246108</td>\n",
              "      <td>0.142805</td>\n",
              "      <td>0.183657</td>\n",
              "      <td>0.124399</td>\n",
              "      <td>0.155513</td>\n",
              "      <td>0.167114</td>\n",
              "      <td>0.113774</td>\n",
              "      <td>0.112815</td>\n",
              "      <td>0.129145</td>\n",
              "      <td>0.122330</td>\n",
              "      <td>0.043012</td>\n",
              "      <td>66</td>\n",
              "      <td>0.206562</td>\n",
              "      <td>132</td>\n",
              "      <td>2</td>\n",
              "      <td>0.102839</td>\n",
              "      <td>0.241934</td>\n",
              "      <td>0.351009</td>\n",
              "      <td>0</td>\n",
              "      <td>0</td>\n",
              "      <td>1</td>\n",
              "      <td>0</td>\n",
              "      <td>0</td>\n",
              "      <td>0</td>\n",
              "    </tr>\n",
              "    <tr>\n",
              "      <th>4</th>\n",
              "      <td>5</td>\n",
              "      <td>0.074550</td>\n",
              "      <td>0.140880</td>\n",
              "      <td>0.079789</td>\n",
              "      <td>-93.697749</td>\n",
              "      <td>5.543229</td>\n",
              "      <td>1.064262</td>\n",
              "      <td>0.899152</td>\n",
              "      <td>0.890336</td>\n",
              "      <td>0.702328</td>\n",
              "      <td>0.490685</td>\n",
              "      <td>0.796904</td>\n",
              "      <td>0.745373</td>\n",
              "      <td>0.911234</td>\n",
              "      <td>0.594429</td>\n",
              "      <td>0.454186</td>\n",
              "      <td>0.384836</td>\n",
              "      <td>0.035751</td>\n",
              "      <td>0.085592</td>\n",
              "      <td>0.029413</td>\n",
              "      <td>4.755293</td>\n",
              "      <td>1.116290</td>\n",
              "      <td>0.926772</td>\n",
              "      <td>0.634988</td>\n",
              "      <td>0.639660</td>\n",
              "      <td>0.552653</td>\n",
              "      <td>0.527708</td>\n",
              "      <td>0.584705</td>\n",
              "      <td>0.696173</td>\n",
              "      <td>0.648611</td>\n",
              "      <td>0.689096</td>\n",
              "      <td>0.643595</td>\n",
              "      <td>0.578063</td>\n",
              "      <td>0.047014</td>\n",
              "      <td>0.136984</td>\n",
              "      <td>0.010356</td>\n",
              "      <td>7.713140</td>\n",
              "      <td>1.592642</td>\n",
              "      <td>1.027190</td>\n",
              "      <td>0.591399</td>\n",
              "      <td>0.565654</td>\n",
              "      <td>0.524420</td>\n",
              "      <td>0.554501</td>\n",
              "      <td>0.606200</td>\n",
              "      <td>0.616760</td>\n",
              "      <td>0.596926</td>\n",
              "      <td>0.524291</td>\n",
              "      <td>0.637971</td>\n",
              "      <td>0.637960</td>\n",
              "      <td>0.036151</td>\n",
              "      <td>0.087741</td>\n",
              "      <td>0.030180</td>\n",
              "      <td>5.085385</td>\n",
              "      <td>0.551937</td>\n",
              "      <td>0.257562</td>\n",
              "      <td>0.159950</td>\n",
              "      <td>0.175855</td>\n",
              "      <td>0.150907</td>\n",
              "      <td>0.142092</td>\n",
              "      <td>0.222804</td>\n",
              "      <td>0.329188</td>\n",
              "      <td>0.251668</td>\n",
              "      <td>0.265049</td>\n",
              "      <td>0.284196</td>\n",
              "      <td>0.189988</td>\n",
              "      <td>0.029308</td>\n",
              "      <td>100</td>\n",
              "      <td>0.144039</td>\n",
              "      <td>200</td>\n",
              "      <td>2</td>\n",
              "      <td>0.195196</td>\n",
              "      <td>0.310801</td>\n",
              "      <td>0.683817</td>\n",
              "      <td>0</td>\n",
              "      <td>0</td>\n",
              "      <td>0</td>\n",
              "      <td>1</td>\n",
              "      <td>0</td>\n",
              "      <td>0</td>\n",
              "    </tr>\n",
              "  </tbody>\n",
              "</table>\n",
              "</div>"
            ],
            "text/plain": [
              "   id  Mean_Acc1298_Mean_Mem40_Centroid  ...  sad-lonely  angry-aggresive\n",
              "0   1                          0.034741  ...           0                0\n",
              "1   2                          0.081374  ...           0                1\n",
              "2   3                          0.110545  ...           0                1\n",
              "3   4                          0.042481  ...           0                0\n",
              "4   5                          0.074550  ...           0                0\n",
              "\n",
              "[5 rows x 79 columns]"
            ]
          },
          "metadata": {
            "tags": []
          },
          "execution_count": 31
        }
      ]
    },
    {
      "cell_type": "code",
      "metadata": {
        "id": "DC2Kq7HdrN9M"
      },
      "source": [
        "# Pré-processamento \n",
        "\n",
        "df = df.drop(columns=['id'])\n",
        "\n",
        "class_pos = [\"amazed-suprised\", \"happy-pleased\", \"relaxing-calm\", \"quiet-still\", \"sad-lonely\", \"angry-aggresive\"]\n",
        "X_train, X_test, y_train, y_test = train_test_split(df.drop(class_pos, axis = 1), df[class_pos],  test_size = 0.3, random_state = 1)\n",
        "\n",
        "# Normalização\n",
        "X_train = preprocessing.MinMaxScaler().fit_transform(X_train)\n",
        "X_test = preprocessing.MinMaxScaler().fit_transform(X_test)\n",
        "y_train = y_train.values\n",
        "y_test = y_test.values"
      ],
      "execution_count": null,
      "outputs": []
    },
    {
      "cell_type": "code",
      "metadata": {
        "id": "vXEXAHd0rN9M",
        "colab": {
          "base_uri": "https://localhost:8080/"
        },
        "outputId": "9d522d46-846d-4f36-8807-9eb173ceccac"
      },
      "source": [
        "# MLkNN\n",
        "print(\"MLkNN simples:\")\n",
        "MLkNN_simples(X_train, y_train, X_test, y_test)\n",
        "\n",
        "print(\"\\nMLkNN com Grid Search:\")\n",
        "MLkNN_GS(X_train, y_train, X_test, y_test)"
      ],
      "execution_count": null,
      "outputs": [
        {
          "output_type": "stream",
          "text": [
            "MLkNN simples:\n",
            "Hamming Loss = 0.2144194756554307\n",
            "Acurácia = 0.29213483146067415\n",
            "Precisão = 0.6778115501519757\n",
            "Revocação = 0.6445086705202312\n",
            "\n",
            "MLkNN com Grid Search:\n",
            "Melhores parâmetros = {'k': 1, 's': 0.3} \n",
            "Melhor score = 0.6026791003861202\n",
            "Hamming Loss = 0.23595505617977527\n",
            "Acurácia = 0.2640449438202247\n",
            "Precisão = 0.6320224719101124\n",
            "Revocação = 0.6502890173410405\n"
          ],
          "name": "stdout"
        }
      ]
    },
    {
      "cell_type": "code",
      "metadata": {
        "id": "ib5i08RHrN9N",
        "colab": {
          "base_uri": "https://localhost:8080/"
        },
        "outputId": "df0cdafd-a18e-4416-a88f-95ac4af81fd7"
      },
      "source": [
        "# BR\n",
        "print(\"BR simples:\")\n",
        "BR_simples(X_train, y_train, X_test, y_test)\n",
        "\n",
        "print(\"\\nBR com Grid Search:\")\n",
        "BR_GS(X_train, y_train, X_test, y_test)"
      ],
      "execution_count": null,
      "outputs": [
        {
          "output_type": "stream",
          "text": [
            "BR simples:\n",
            "Hamming Loss = 0.18726591760299627\n",
            "Acurácia = 0.2640449438202247\n",
            "Precisão = 0.8173913043478261\n",
            "Revocação = 0.5433526011560693\n",
            "\n",
            "BR com Grid Search:\n",
            "Melhores parâmetros = {'classifier': SVC(C=1.0, break_ties=False, cache_size=200, class_weight=None, coef0=0.0,\n",
            "    decision_function_shape='ovr', degree=3, gamma='scale', kernel='rbf',\n",
            "    max_iter=-1, probability=False, random_state=None, shrinking=True,\n",
            "    tol=0.001, verbose=False), 'classifier__kernel': 'rbf'} \n",
            "Melhor score = 0.30120481927710846\n",
            "Hamming Loss = 0.18726591760299627\n",
            "Acurácia = 0.2640449438202247\n",
            "Precisão = 0.8173913043478261\n",
            "Revocação = 0.5433526011560693\n"
          ],
          "name": "stdout"
        }
      ]
    },
    {
      "cell_type": "code",
      "metadata": {
        "id": "6dYsXQ8srN9N",
        "colab": {
          "base_uri": "https://localhost:8080/"
        },
        "outputId": "43419609-6ff5-4751-ec9b-a49798df5322"
      },
      "source": [
        "# LP\n",
        "print(\"LP simples:\")\n",
        "LP_simples(X_train, y_train, X_test, y_test)\n",
        "\n",
        "print(\"\\nLP com Grid Search:\")\n",
        "LP_GS(X_train, y_train, X_test, y_test)"
      ],
      "execution_count": null,
      "outputs": [
        {
          "output_type": "stream",
          "text": [
            "LP simples:\n",
            "Hamming Loss = 0.20037453183520598\n",
            "Acurácia = 0.25280898876404495\n",
            "Precisão = 0.7682926829268293\n",
            "Revocação = 0.546242774566474\n",
            "\n",
            "LP com Grid Search:\n",
            "Melhores parâmetros = {'classifier': RandomForestClassifier(bootstrap=True, ccp_alpha=0.0, class_weight=None,\n",
            "                       criterion='entropy', max_depth=None, max_features='auto',\n",
            "                       max_leaf_nodes=None, max_samples=None,\n",
            "                       min_impurity_decrease=0.0, min_impurity_split=None,\n",
            "                       min_samples_leaf=1, min_samples_split=2,\n",
            "                       min_weight_fraction_leaf=0.0, n_estimators=50,\n",
            "                       n_jobs=None, oob_score=False, random_state=None,\n",
            "                       verbose=0, warm_start=False), 'classifier__criterion': 'entropy', 'classifier__n_estimators': 50} \n",
            "Melhor score = 0.3445783132530121\n",
            "Hamming Loss = 0.2303370786516854\n",
            "Acurácia = 0.3202247191011236\n",
            "Precisão = 0.654320987654321\n",
            "Revocação = 0.6127167630057804\n"
          ],
          "name": "stdout"
        }
      ]
    },
    {
      "cell_type": "markdown",
      "metadata": {
        "id": "WA2TlNw4rN9N"
      },
      "source": [
        "---\n",
        "## FoodTrucks\n",
        "\n",
        "Este dataset (disponível em ) contém resultados de uma pesquisa conduzida em Natal, que visava determinar preferência por certos tipos de food trucks dependendo de fatores diversos. São 407 exemplos no total.\n",
        "\n",
        "As features são:\n",
        "\n",
        "* frequência(numérico): com que frequência uma pessoa come fora, de 1(raramente) a 5(diariamente ou quase diariamente)\n",
        "\n",
        "* tempo (categórico): em que parte do dia costuma comer fora. Os possíveis valores são: manhã,almoço, tarde, happy hour e janta\n",
        "\n",
        "* gasto (numérico): quanto um dado indivíduo costuma gastar, em reais. Os valores determinam os limites dos intervalos: 15,20,30,40,50.\n",
        "\n",
        "* motivação (categórico): o que leva um indivíduo a escolher determinado foodtruck: propaganda, acaso, amigos, redes sociais, internet\n",
        "\n",
        "* gosto, higiene, menu, apresentação, atendimento, ingredientes, lugar disponível,para viagem, variação de escolha, encontros, horários: quanto um dado indivíduo valoriza determinadas qualidades de um foodtruck, numa escala de 1 a 5.\n",
        "\n",
        "* gênero(categórico)\n",
        "\n",
        "* escolaridade(numérico): de sem estudo a phd numa escala de 1 a 5. Vale notar que alunos em processo de graduação são representados por 1.5\n",
        "\n",
        "* renda média(numérico): em termos de salários mínimos, de 1 a 5, sendo 1 menos de 2 e 5 mais de 20\n",
        "\n",
        "* trabalha (binário)\n",
        "\n",
        "* estado civil (categórico)\n",
        "\n",
        "* idade (numérico): agrupados em intervalos, sendo o primeiro <19, os subsequentes de 5 em 5, terminando em um intervalo 50+. Assume os valores de 1 a 8."
      ]
    },
    {
      "cell_type": "code",
      "metadata": {
        "id": "jjnTXaF_rN9O",
        "colab": {
          "base_uri": "https://localhost:8080/",
          "height": 330
        },
        "outputId": "e2ac7d26-3dad-4094-e268-85f116f58dca"
      },
      "source": [
        "df_food = pd.read_csv(\"https://raw.githubusercontent.com/LeoRyu18/AM2_T1/main/food.csv?token=AHW73BLI3WHUSEIWBNJPWKLAKVW3K\")\n",
        "df_food.head()"
      ],
      "execution_count": null,
      "outputs": [
        {
          "output_type": "error",
          "ename": "HTTPError",
          "evalue": "ignored",
          "traceback": [
            "\u001b[0;31m---------------------------------------------------------------------------\u001b[0m",
            "\u001b[0;31mHTTPError\u001b[0m                                 Traceback (most recent call last)",
            "\u001b[0;32m<ipython-input-37-e26ec472cf9f>\u001b[0m in \u001b[0;36m<module>\u001b[0;34m()\u001b[0m\n\u001b[0;32m----> 1\u001b[0;31m \u001b[0mdf_food\u001b[0m \u001b[0;34m=\u001b[0m \u001b[0mpd\u001b[0m\u001b[0;34m.\u001b[0m\u001b[0mread_csv\u001b[0m\u001b[0;34m(\u001b[0m\u001b[0;34m\"https://raw.githubusercontent.com/LeoRyu18/AM2_T1/main/food.csv?token=AHW73BLI3WHUSEIWBNJPWKLAKVW3K\"\u001b[0m\u001b[0;34m)\u001b[0m\u001b[0;34m\u001b[0m\u001b[0;34m\u001b[0m\u001b[0m\n\u001b[0m\u001b[1;32m      2\u001b[0m \u001b[0mdf_food\u001b[0m\u001b[0;34m.\u001b[0m\u001b[0mhead\u001b[0m\u001b[0;34m(\u001b[0m\u001b[0;34m)\u001b[0m\u001b[0;34m\u001b[0m\u001b[0;34m\u001b[0m\u001b[0m\n",
            "\u001b[0;32m/usr/local/lib/python3.7/dist-packages/pandas/io/parsers.py\u001b[0m in \u001b[0;36mread_csv\u001b[0;34m(filepath_or_buffer, sep, delimiter, header, names, index_col, usecols, squeeze, prefix, mangle_dupe_cols, dtype, engine, converters, true_values, false_values, skipinitialspace, skiprows, skipfooter, nrows, na_values, keep_default_na, na_filter, verbose, skip_blank_lines, parse_dates, infer_datetime_format, keep_date_col, date_parser, dayfirst, cache_dates, iterator, chunksize, compression, thousands, decimal, lineterminator, quotechar, quoting, doublequote, escapechar, comment, encoding, dialect, error_bad_lines, warn_bad_lines, delim_whitespace, low_memory, memory_map, float_precision)\u001b[0m\n\u001b[1;32m    686\u001b[0m     )\n\u001b[1;32m    687\u001b[0m \u001b[0;34m\u001b[0m\u001b[0m\n\u001b[0;32m--> 688\u001b[0;31m     \u001b[0;32mreturn\u001b[0m \u001b[0m_read\u001b[0m\u001b[0;34m(\u001b[0m\u001b[0mfilepath_or_buffer\u001b[0m\u001b[0;34m,\u001b[0m \u001b[0mkwds\u001b[0m\u001b[0;34m)\u001b[0m\u001b[0;34m\u001b[0m\u001b[0;34m\u001b[0m\u001b[0m\n\u001b[0m\u001b[1;32m    689\u001b[0m \u001b[0;34m\u001b[0m\u001b[0m\n\u001b[1;32m    690\u001b[0m \u001b[0;34m\u001b[0m\u001b[0m\n",
            "\u001b[0;32m/usr/local/lib/python3.7/dist-packages/pandas/io/parsers.py\u001b[0m in \u001b[0;36m_read\u001b[0;34m(filepath_or_buffer, kwds)\u001b[0m\n\u001b[1;32m    435\u001b[0m     \u001b[0;31m# See https://github.com/python/mypy/issues/1297\u001b[0m\u001b[0;34m\u001b[0m\u001b[0;34m\u001b[0m\u001b[0;34m\u001b[0m\u001b[0m\n\u001b[1;32m    436\u001b[0m     fp_or_buf, _, compression, should_close = get_filepath_or_buffer(\n\u001b[0;32m--> 437\u001b[0;31m         \u001b[0mfilepath_or_buffer\u001b[0m\u001b[0;34m,\u001b[0m \u001b[0mencoding\u001b[0m\u001b[0;34m,\u001b[0m \u001b[0mcompression\u001b[0m\u001b[0;34m\u001b[0m\u001b[0;34m\u001b[0m\u001b[0m\n\u001b[0m\u001b[1;32m    438\u001b[0m     )\n\u001b[1;32m    439\u001b[0m     \u001b[0mkwds\u001b[0m\u001b[0;34m[\u001b[0m\u001b[0;34m\"compression\"\u001b[0m\u001b[0;34m]\u001b[0m \u001b[0;34m=\u001b[0m \u001b[0mcompression\u001b[0m\u001b[0;34m\u001b[0m\u001b[0;34m\u001b[0m\u001b[0m\n",
            "\u001b[0;32m/usr/local/lib/python3.7/dist-packages/pandas/io/common.py\u001b[0m in \u001b[0;36mget_filepath_or_buffer\u001b[0;34m(filepath_or_buffer, encoding, compression, mode, storage_options)\u001b[0m\n\u001b[1;32m    181\u001b[0m     \u001b[0;32mif\u001b[0m \u001b[0misinstance\u001b[0m\u001b[0;34m(\u001b[0m\u001b[0mfilepath_or_buffer\u001b[0m\u001b[0;34m,\u001b[0m \u001b[0mstr\u001b[0m\u001b[0;34m)\u001b[0m \u001b[0;32mand\u001b[0m \u001b[0mis_url\u001b[0m\u001b[0;34m(\u001b[0m\u001b[0mfilepath_or_buffer\u001b[0m\u001b[0;34m)\u001b[0m\u001b[0;34m:\u001b[0m\u001b[0;34m\u001b[0m\u001b[0;34m\u001b[0m\u001b[0m\n\u001b[1;32m    182\u001b[0m         \u001b[0;31m# TODO: fsspec can also handle HTTP via requests, but leaving this unchanged\u001b[0m\u001b[0;34m\u001b[0m\u001b[0;34m\u001b[0m\u001b[0;34m\u001b[0m\u001b[0m\n\u001b[0;32m--> 183\u001b[0;31m         \u001b[0mreq\u001b[0m \u001b[0;34m=\u001b[0m \u001b[0murlopen\u001b[0m\u001b[0;34m(\u001b[0m\u001b[0mfilepath_or_buffer\u001b[0m\u001b[0;34m)\u001b[0m\u001b[0;34m\u001b[0m\u001b[0;34m\u001b[0m\u001b[0m\n\u001b[0m\u001b[1;32m    184\u001b[0m         \u001b[0mcontent_encoding\u001b[0m \u001b[0;34m=\u001b[0m \u001b[0mreq\u001b[0m\u001b[0;34m.\u001b[0m\u001b[0mheaders\u001b[0m\u001b[0;34m.\u001b[0m\u001b[0mget\u001b[0m\u001b[0;34m(\u001b[0m\u001b[0;34m\"Content-Encoding\"\u001b[0m\u001b[0;34m,\u001b[0m \u001b[0;32mNone\u001b[0m\u001b[0;34m)\u001b[0m\u001b[0;34m\u001b[0m\u001b[0;34m\u001b[0m\u001b[0m\n\u001b[1;32m    185\u001b[0m         \u001b[0;32mif\u001b[0m \u001b[0mcontent_encoding\u001b[0m \u001b[0;34m==\u001b[0m \u001b[0;34m\"gzip\"\u001b[0m\u001b[0;34m:\u001b[0m\u001b[0;34m\u001b[0m\u001b[0;34m\u001b[0m\u001b[0m\n",
            "\u001b[0;32m/usr/local/lib/python3.7/dist-packages/pandas/io/common.py\u001b[0m in \u001b[0;36murlopen\u001b[0;34m(*args, **kwargs)\u001b[0m\n\u001b[1;32m    135\u001b[0m     \u001b[0;32mimport\u001b[0m \u001b[0murllib\u001b[0m\u001b[0;34m.\u001b[0m\u001b[0mrequest\u001b[0m\u001b[0;34m\u001b[0m\u001b[0;34m\u001b[0m\u001b[0m\n\u001b[1;32m    136\u001b[0m \u001b[0;34m\u001b[0m\u001b[0m\n\u001b[0;32m--> 137\u001b[0;31m     \u001b[0;32mreturn\u001b[0m \u001b[0murllib\u001b[0m\u001b[0;34m.\u001b[0m\u001b[0mrequest\u001b[0m\u001b[0;34m.\u001b[0m\u001b[0murlopen\u001b[0m\u001b[0;34m(\u001b[0m\u001b[0;34m*\u001b[0m\u001b[0margs\u001b[0m\u001b[0;34m,\u001b[0m \u001b[0;34m**\u001b[0m\u001b[0mkwargs\u001b[0m\u001b[0;34m)\u001b[0m\u001b[0;34m\u001b[0m\u001b[0;34m\u001b[0m\u001b[0m\n\u001b[0m\u001b[1;32m    138\u001b[0m \u001b[0;34m\u001b[0m\u001b[0m\n\u001b[1;32m    139\u001b[0m \u001b[0;34m\u001b[0m\u001b[0m\n",
            "\u001b[0;32m/usr/lib/python3.7/urllib/request.py\u001b[0m in \u001b[0;36murlopen\u001b[0;34m(url, data, timeout, cafile, capath, cadefault, context)\u001b[0m\n\u001b[1;32m    220\u001b[0m     \u001b[0;32melse\u001b[0m\u001b[0;34m:\u001b[0m\u001b[0;34m\u001b[0m\u001b[0;34m\u001b[0m\u001b[0m\n\u001b[1;32m    221\u001b[0m         \u001b[0mopener\u001b[0m \u001b[0;34m=\u001b[0m \u001b[0m_opener\u001b[0m\u001b[0;34m\u001b[0m\u001b[0;34m\u001b[0m\u001b[0m\n\u001b[0;32m--> 222\u001b[0;31m     \u001b[0;32mreturn\u001b[0m \u001b[0mopener\u001b[0m\u001b[0;34m.\u001b[0m\u001b[0mopen\u001b[0m\u001b[0;34m(\u001b[0m\u001b[0murl\u001b[0m\u001b[0;34m,\u001b[0m \u001b[0mdata\u001b[0m\u001b[0;34m,\u001b[0m \u001b[0mtimeout\u001b[0m\u001b[0;34m)\u001b[0m\u001b[0;34m\u001b[0m\u001b[0;34m\u001b[0m\u001b[0m\n\u001b[0m\u001b[1;32m    223\u001b[0m \u001b[0;34m\u001b[0m\u001b[0m\n\u001b[1;32m    224\u001b[0m \u001b[0;32mdef\u001b[0m \u001b[0minstall_opener\u001b[0m\u001b[0;34m(\u001b[0m\u001b[0mopener\u001b[0m\u001b[0;34m)\u001b[0m\u001b[0;34m:\u001b[0m\u001b[0;34m\u001b[0m\u001b[0;34m\u001b[0m\u001b[0m\n",
            "\u001b[0;32m/usr/lib/python3.7/urllib/request.py\u001b[0m in \u001b[0;36mopen\u001b[0;34m(self, fullurl, data, timeout)\u001b[0m\n\u001b[1;32m    529\u001b[0m         \u001b[0;32mfor\u001b[0m \u001b[0mprocessor\u001b[0m \u001b[0;32min\u001b[0m \u001b[0mself\u001b[0m\u001b[0;34m.\u001b[0m\u001b[0mprocess_response\u001b[0m\u001b[0;34m.\u001b[0m\u001b[0mget\u001b[0m\u001b[0;34m(\u001b[0m\u001b[0mprotocol\u001b[0m\u001b[0;34m,\u001b[0m \u001b[0;34m[\u001b[0m\u001b[0;34m]\u001b[0m\u001b[0;34m)\u001b[0m\u001b[0;34m:\u001b[0m\u001b[0;34m\u001b[0m\u001b[0;34m\u001b[0m\u001b[0m\n\u001b[1;32m    530\u001b[0m             \u001b[0mmeth\u001b[0m \u001b[0;34m=\u001b[0m \u001b[0mgetattr\u001b[0m\u001b[0;34m(\u001b[0m\u001b[0mprocessor\u001b[0m\u001b[0;34m,\u001b[0m \u001b[0mmeth_name\u001b[0m\u001b[0;34m)\u001b[0m\u001b[0;34m\u001b[0m\u001b[0;34m\u001b[0m\u001b[0m\n\u001b[0;32m--> 531\u001b[0;31m             \u001b[0mresponse\u001b[0m \u001b[0;34m=\u001b[0m \u001b[0mmeth\u001b[0m\u001b[0;34m(\u001b[0m\u001b[0mreq\u001b[0m\u001b[0;34m,\u001b[0m \u001b[0mresponse\u001b[0m\u001b[0;34m)\u001b[0m\u001b[0;34m\u001b[0m\u001b[0;34m\u001b[0m\u001b[0m\n\u001b[0m\u001b[1;32m    532\u001b[0m \u001b[0;34m\u001b[0m\u001b[0m\n\u001b[1;32m    533\u001b[0m         \u001b[0;32mreturn\u001b[0m \u001b[0mresponse\u001b[0m\u001b[0;34m\u001b[0m\u001b[0;34m\u001b[0m\u001b[0m\n",
            "\u001b[0;32m/usr/lib/python3.7/urllib/request.py\u001b[0m in \u001b[0;36mhttp_response\u001b[0;34m(self, request, response)\u001b[0m\n\u001b[1;32m    639\u001b[0m         \u001b[0;32mif\u001b[0m \u001b[0;32mnot\u001b[0m \u001b[0;34m(\u001b[0m\u001b[0;36m200\u001b[0m \u001b[0;34m<=\u001b[0m \u001b[0mcode\u001b[0m \u001b[0;34m<\u001b[0m \u001b[0;36m300\u001b[0m\u001b[0;34m)\u001b[0m\u001b[0;34m:\u001b[0m\u001b[0;34m\u001b[0m\u001b[0;34m\u001b[0m\u001b[0m\n\u001b[1;32m    640\u001b[0m             response = self.parent.error(\n\u001b[0;32m--> 641\u001b[0;31m                 'http', request, response, code, msg, hdrs)\n\u001b[0m\u001b[1;32m    642\u001b[0m \u001b[0;34m\u001b[0m\u001b[0m\n\u001b[1;32m    643\u001b[0m         \u001b[0;32mreturn\u001b[0m \u001b[0mresponse\u001b[0m\u001b[0;34m\u001b[0m\u001b[0;34m\u001b[0m\u001b[0m\n",
            "\u001b[0;32m/usr/lib/python3.7/urllib/request.py\u001b[0m in \u001b[0;36merror\u001b[0;34m(self, proto, *args)\u001b[0m\n\u001b[1;32m    567\u001b[0m         \u001b[0;32mif\u001b[0m \u001b[0mhttp_err\u001b[0m\u001b[0;34m:\u001b[0m\u001b[0;34m\u001b[0m\u001b[0;34m\u001b[0m\u001b[0m\n\u001b[1;32m    568\u001b[0m             \u001b[0margs\u001b[0m \u001b[0;34m=\u001b[0m \u001b[0;34m(\u001b[0m\u001b[0mdict\u001b[0m\u001b[0;34m,\u001b[0m \u001b[0;34m'default'\u001b[0m\u001b[0;34m,\u001b[0m \u001b[0;34m'http_error_default'\u001b[0m\u001b[0;34m)\u001b[0m \u001b[0;34m+\u001b[0m \u001b[0morig_args\u001b[0m\u001b[0;34m\u001b[0m\u001b[0;34m\u001b[0m\u001b[0m\n\u001b[0;32m--> 569\u001b[0;31m             \u001b[0;32mreturn\u001b[0m \u001b[0mself\u001b[0m\u001b[0;34m.\u001b[0m\u001b[0m_call_chain\u001b[0m\u001b[0;34m(\u001b[0m\u001b[0;34m*\u001b[0m\u001b[0margs\u001b[0m\u001b[0;34m)\u001b[0m\u001b[0;34m\u001b[0m\u001b[0;34m\u001b[0m\u001b[0m\n\u001b[0m\u001b[1;32m    570\u001b[0m \u001b[0;34m\u001b[0m\u001b[0m\n\u001b[1;32m    571\u001b[0m \u001b[0;31m# XXX probably also want an abstract factory that knows when it makes\u001b[0m\u001b[0;34m\u001b[0m\u001b[0;34m\u001b[0m\u001b[0;34m\u001b[0m\u001b[0m\n",
            "\u001b[0;32m/usr/lib/python3.7/urllib/request.py\u001b[0m in \u001b[0;36m_call_chain\u001b[0;34m(self, chain, kind, meth_name, *args)\u001b[0m\n\u001b[1;32m    501\u001b[0m         \u001b[0;32mfor\u001b[0m \u001b[0mhandler\u001b[0m \u001b[0;32min\u001b[0m \u001b[0mhandlers\u001b[0m\u001b[0;34m:\u001b[0m\u001b[0;34m\u001b[0m\u001b[0;34m\u001b[0m\u001b[0m\n\u001b[1;32m    502\u001b[0m             \u001b[0mfunc\u001b[0m \u001b[0;34m=\u001b[0m \u001b[0mgetattr\u001b[0m\u001b[0;34m(\u001b[0m\u001b[0mhandler\u001b[0m\u001b[0;34m,\u001b[0m \u001b[0mmeth_name\u001b[0m\u001b[0;34m)\u001b[0m\u001b[0;34m\u001b[0m\u001b[0;34m\u001b[0m\u001b[0m\n\u001b[0;32m--> 503\u001b[0;31m             \u001b[0mresult\u001b[0m \u001b[0;34m=\u001b[0m \u001b[0mfunc\u001b[0m\u001b[0;34m(\u001b[0m\u001b[0;34m*\u001b[0m\u001b[0margs\u001b[0m\u001b[0;34m)\u001b[0m\u001b[0;34m\u001b[0m\u001b[0;34m\u001b[0m\u001b[0m\n\u001b[0m\u001b[1;32m    504\u001b[0m             \u001b[0;32mif\u001b[0m \u001b[0mresult\u001b[0m \u001b[0;32mis\u001b[0m \u001b[0;32mnot\u001b[0m \u001b[0;32mNone\u001b[0m\u001b[0;34m:\u001b[0m\u001b[0;34m\u001b[0m\u001b[0;34m\u001b[0m\u001b[0m\n\u001b[1;32m    505\u001b[0m                 \u001b[0;32mreturn\u001b[0m \u001b[0mresult\u001b[0m\u001b[0;34m\u001b[0m\u001b[0;34m\u001b[0m\u001b[0m\n",
            "\u001b[0;32m/usr/lib/python3.7/urllib/request.py\u001b[0m in \u001b[0;36mhttp_error_default\u001b[0;34m(self, req, fp, code, msg, hdrs)\u001b[0m\n\u001b[1;32m    647\u001b[0m \u001b[0;32mclass\u001b[0m \u001b[0mHTTPDefaultErrorHandler\u001b[0m\u001b[0;34m(\u001b[0m\u001b[0mBaseHandler\u001b[0m\u001b[0;34m)\u001b[0m\u001b[0;34m:\u001b[0m\u001b[0;34m\u001b[0m\u001b[0;34m\u001b[0m\u001b[0m\n\u001b[1;32m    648\u001b[0m     \u001b[0;32mdef\u001b[0m \u001b[0mhttp_error_default\u001b[0m\u001b[0;34m(\u001b[0m\u001b[0mself\u001b[0m\u001b[0;34m,\u001b[0m \u001b[0mreq\u001b[0m\u001b[0;34m,\u001b[0m \u001b[0mfp\u001b[0m\u001b[0;34m,\u001b[0m \u001b[0mcode\u001b[0m\u001b[0;34m,\u001b[0m \u001b[0mmsg\u001b[0m\u001b[0;34m,\u001b[0m \u001b[0mhdrs\u001b[0m\u001b[0;34m)\u001b[0m\u001b[0;34m:\u001b[0m\u001b[0;34m\u001b[0m\u001b[0;34m\u001b[0m\u001b[0m\n\u001b[0;32m--> 649\u001b[0;31m         \u001b[0;32mraise\u001b[0m \u001b[0mHTTPError\u001b[0m\u001b[0;34m(\u001b[0m\u001b[0mreq\u001b[0m\u001b[0;34m.\u001b[0m\u001b[0mfull_url\u001b[0m\u001b[0;34m,\u001b[0m \u001b[0mcode\u001b[0m\u001b[0;34m,\u001b[0m \u001b[0mmsg\u001b[0m\u001b[0;34m,\u001b[0m \u001b[0mhdrs\u001b[0m\u001b[0;34m,\u001b[0m \u001b[0mfp\u001b[0m\u001b[0;34m)\u001b[0m\u001b[0;34m\u001b[0m\u001b[0;34m\u001b[0m\u001b[0m\n\u001b[0m\u001b[1;32m    650\u001b[0m \u001b[0;34m\u001b[0m\u001b[0m\n\u001b[1;32m    651\u001b[0m \u001b[0;32mclass\u001b[0m \u001b[0mHTTPRedirectHandler\u001b[0m\u001b[0;34m(\u001b[0m\u001b[0mBaseHandler\u001b[0m\u001b[0;34m)\u001b[0m\u001b[0;34m:\u001b[0m\u001b[0;34m\u001b[0m\u001b[0;34m\u001b[0m\u001b[0m\n",
            "\u001b[0;31mHTTPError\u001b[0m: HTTP Error 404: Not Found"
          ]
        }
      ]
    },
    {
      "cell_type": "code",
      "metadata": {
        "id": "rVZhP4DgrN9P"
      },
      "source": [
        "labels = ['italian_food','brazilian_food','mexican_food','chinese_food','japanese_food','arabic_food','snacks','healthy_food','fitness_food','sweets_desserts','gourmet','street_food']\n",
        "\n",
        "y = df_food[labels]\n",
        "X = df_food.drop(labels,axis=1)"
      ],
      "execution_count": null,
      "outputs": []
    },
    {
      "cell_type": "code",
      "metadata": {
        "id": "xX0BtyjtrN9P"
      },
      "source": [
        "#encoding de features categóricos\n",
        "X.replace({'dawn':1,'lunch':2,'afternoon':3,'happy_hour':4,'dinner':5\n",
        ",'ads':1,'by_chance':2,'friend':3,'social_network':4,'web':5,\n",
        "'F':1,'M':2,\n",
        "'divorced':1,'married':2,'single':3\n",
        "}, inplace=True)\n",
        "\n",
        "# o único feature que já não vem normalizado numa escala de 1 a 5 é a renda. Não sei se isso é um oversight ou intencional por parte do estudo mas eu decidi normalizar\n",
        "\n",
        "X_train = preprocessing.MinMaxScaler().fit_transform(X_train)\n",
        "X_test = preprocessing.MinMaxScaler().fit_transform(X_test)\n",
        "\n",
        "#Separação treino-teste\n",
        "X_train,X_test,y_train,y_test = train_test_split(X,y,test_size=0.25,random_state=42) \n",
        "X_train = np.array(X_train)\n",
        "X_test = np.array(X_test)\n",
        "y_train = np.array(y_train)\n",
        "y_test = np.array(y_test)\n",
        "\n"
      ],
      "execution_count": null,
      "outputs": []
    },
    {
      "cell_type": "code",
      "metadata": {
        "id": "h9jGhru_rN9P",
        "outputId": "9f11caf1-f146-41ff-a9e7-b8f6026af251"
      },
      "source": [
        "print(\"BR simples:\")\n",
        "BR_simples(X_train, y_train, X_test, y_test)\n",
        "\n",
        "print(\"\\nBR com Grid Search:\")\n",
        "BR_GS(X_train, y_train, X_test, y_test)"
      ],
      "execution_count": null,
      "outputs": [
        {
          "output_type": "stream",
          "text": [
            "BR simples:\n",
            "Hamming Loss = 0.16666666666666666\n",
            "Acurácia = 0.2647058823529412\n",
            "Precisão = 0.6764705882352942\n",
            "Revocação = 0.2875\n",
            "\n",
            "BR com Grid Search:\n",
            "Melhores parâmetros = {'classifier': SVC(), 'classifier__kernel': 'rbf'} \n",
            "Melhor score = 0.28852459016393445\n",
            "Hamming Loss = 0.16666666666666666\n",
            "Acurácia = 0.2647058823529412\n",
            "Precisão = 0.6764705882352942\n",
            "Revocação = 0.2875\n"
          ],
          "name": "stdout"
        }
      ]
    },
    {
      "cell_type": "code",
      "metadata": {
        "id": "a39QdZ-orN9P",
        "outputId": "c4b5b79c-e13b-41ff-a064-33c5b2c4096c"
      },
      "source": [
        "# MLkNN\n",
        "print(\"MLkNN simples:\")\n",
        "MLkNN_simples(X_train, y_train, X_test, y_test)\n",
        "\n",
        "print(\"\\nMLkNN com Grid Search:\")\n",
        "MLkNN_GS(X_train, y_train, X_test, y_test)"
      ],
      "execution_count": null,
      "outputs": [
        {
          "output_type": "stream",
          "text": [
            "MLkNN simples:\n",
            "Hamming Loss = 0.17973856209150327\n",
            "Acurácia = 0.12745098039215685\n",
            "Precisão = 0.5602409638554217\n",
            "Revocação = 0.3875\n",
            "\n",
            "MLkNN com Grid Search:\n",
            "Melhores parâmetros = {'k': 1, 's': 0.3} \n",
            "Melhor score = 0.2213125800439914\n",
            "Hamming Loss = 0.20833333333333334\n",
            "Acurácia = 0.12745098039215685\n",
            "Precisão = 0.4678111587982833\n",
            "Revocação = 0.45416666666666666\n"
          ],
          "name": "stdout"
        }
      ]
    },
    {
      "cell_type": "code",
      "metadata": {
        "id": "Zxh5ECk1rN9P",
        "outputId": "8794ca55-5c3d-4b9e-c2e4-d0fdcea8f932"
      },
      "source": [
        "# LP\n",
        "print(\"LP simples:\")\n",
        "LP_simples(X_train, y_train, X_test, y_test)\n",
        "\n",
        "print(\"\\nLP com Grid Search:\")\n",
        "LP_GS(X_train, y_train, X_test, y_test)"
      ],
      "execution_count": null,
      "outputs": [
        {
          "output_type": "stream",
          "text": [
            "LP simples:\n",
            "Hamming Loss = 0.16094771241830066\n",
            "Acurácia = 0.2647058823529412\n",
            "Precisão = 0.680672268907563\n",
            "Revocação = 0.3375\n",
            "\n",
            "LP com Grid Search:\n",
            "Melhores parâmetros = {'classifier': MultinomialNB(alpha=0.7), 'classifier__alpha': 0.7} \n",
            "Melhor score = 0.2819672131147541\n",
            "Hamming Loss = 0.1781045751633987\n",
            "Acurácia = 0.22549019607843138\n",
            "Precisão = 0.5887096774193549\n",
            "Revocação = 0.30416666666666664\n"
          ],
          "name": "stdout"
        }
      ]
    },
    {
      "cell_type": "code",
      "metadata": {
        "id": "8XbcZiorrN9Q"
      },
      "source": [
        ""
      ],
      "execution_count": null,
      "outputs": []
    }
  ]
}